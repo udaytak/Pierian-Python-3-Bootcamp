{
 "cells": [
  {
   "cell_type": "markdown",
   "metadata": {},
   "source": [
    "<b>Pip Install and PyPi"
   ]
  },
  {
   "cell_type": "code",
   "execution_count": null,
   "metadata": {},
   "outputs": [],
   "source": [
    "#pip install requests"
   ]
  },
  {
   "cell_type": "code",
   "execution_count": 1,
   "metadata": {},
   "outputs": [],
   "source": [
    "# pip install colorama  --  # allows print colorful text on command prompt\n",
    "from colorama import init\n",
    "init()"
   ]
  },
  {
   "cell_type": "code",
   "execution_count": 3,
   "metadata": {},
   "outputs": [
    {
     "name": "stdout",
     "output_type": "stream",
     "text": [
      "Some red text\n",
      "Switched to green\n"
     ]
    }
   ],
   "source": [
    "from colorama import Fore\n",
    "\n",
    "print(Fore.RED + \"Some red text\")\n",
    "print(Fore.GREEN + \"Switched to green\")"
   ]
  },
  {
   "cell_type": "code",
   "execution_count": 4,
   "metadata": {},
   "outputs": [],
   "source": [
    "# pip install openpyxl - use excel with Python\n",
    "import openpyxl"
   ]
  },
  {
   "cell_type": "code",
   "execution_count": null,
   "metadata": {},
   "outputs": [],
   "source": []
  },
  {
   "cell_type": "markdown",
   "metadata": {},
   "source": [
    "<b>Module and packages"
   ]
  },
  {
   "cell_type": "code",
   "execution_count": null,
   "metadata": {},
   "outputs": [],
   "source": [
    "# module - .py script calling in .py script"
   ]
  },
  {
   "cell_type": "code",
   "execution_count": null,
   "metadata": {},
   "outputs": [],
   "source": [
    "# sublimetext editor - \n",
    "\n",
    "# mymodule.py\n",
    "'''\n",
    "def my_func():\n",
    "    print(\"inside mymodule\")\n",
    "'''\n",
    "\n",
    "#myprogram.py\n",
    "'''\n",
    "from mymodule import my_func\n",
    "\n",
    "my_func()\n",
    "'''\n",
    "\n",
    "#cmd\n",
    "'''\n",
    "python myprogram.py\n",
    "\"inside mymodule\"\n",
    "'''"
   ]
  },
  {
   "cell_type": "code",
   "execution_count": null,
   "metadata": {},
   "outputs": [],
   "source": []
  },
  {
   "cell_type": "markdown",
   "metadata": {},
   "source": [
    "<b>Package and Sub-package"
   ]
  },
  {
   "cell_type": "code",
   "execution_count": 4,
   "metadata": {},
   "outputs": [
    {
     "data": {
      "text/plain": [
       "'\\nfrom MyMainpackage import someMainScript\\nfrom MyMainpackage.Subpackage import mysubscript\\n\\nsomeMainScript.main_report()\\nMySubScript.sub_report()\\n'"
      ]
     },
     "execution_count": 4,
     "metadata": {},
     "output_type": "execute_result"
    }
   ],
   "source": [
    "# sublimetext\n",
    "# folder > MyMainPackage > SubPackage\n",
    "# keep __init__.py - empty to make folder module \n",
    "\n",
    "# MyMainPackage> # __init__.py\n",
    "#someMainScript.py\n",
    "'''\n",
    "def main_report():\n",
    "    print('Function inside mainscript in main package')\n",
    "'''\n",
    "\n",
    "#SubPackage> # __init__.py\n",
    "#MySubScript.py\n",
    "'''\n",
    "def sub_report():\n",
    "    print('Function inside subscript')\n",
    "'''\n",
    "    \n",
    "#mymodule.py\n",
    "'''\n",
    "def my_func():\n",
    "    print(\"inside mymodule\")\n",
    "'''\n",
    "\n",
    "#myprogram.py\n",
    "'''\n",
    "from MyMainpackage import someMainScript\n",
    "from MyMainpackage.Subpackage import mysubscript\n",
    "\n",
    "someMainScript.main_report()\n",
    "MySubScript.sub_report()\n",
    "'''"
   ]
  },
  {
   "cell_type": "code",
   "execution_count": null,
   "metadata": {},
   "outputs": [],
   "source": []
  },
  {
   "cell_type": "markdown",
   "metadata": {},
   "source": [
    "<b> __name__ and \"__main__\" </b>"
   ]
  },
  {
   "cell_type": "code",
   "execution_count": 5,
   "metadata": {},
   "outputs": [
    {
     "data": {
      "text/plain": [
       "'\\nimport one\\n\\nprint(\\'Top level in two.py\\')\\none.func()\\n\\nif __name__ == \"__main__\":\\n    print(\\'two.py is being run directly\\')\\nelse:\\n    print(\\'two.py is imported\\')\\n'"
      ]
     },
     "execution_count": 5,
     "metadata": {},
     "output_type": "execute_result"
    }
   ],
   "source": [
    "# one.py\n",
    "'''\n",
    "print(\"Hello\")\n",
    "\n",
    "'''\n",
    "# in python - no main()\n",
    "\n",
    "# > python one.py \n",
    "# code at indentation-0 runs - declaration, function, class definations\n",
    "\n",
    "# __name__ : built in variable \n",
    "#          > python one.py\n",
    "#          : __name__=\"__main__\" string gets assigned.\n",
    "\n",
    "'''\n",
    "if __name__ == \"__main__\":\n",
    "    myfunc()\n",
    "'''\n",
    "\n",
    "# one.py\n",
    "'''    \n",
    "def func():\n",
    "    print('FUNC() in one.py')\n",
    "\n",
    "print('Top level in one.py')\n",
    "\n",
    "if __name__ == \"__main__\":\n",
    "    print('one.py is being run directly')\n",
    "else:\n",
    "    print('one.py has been imported')\n",
    "   \n",
    "'''\n",
    "\n",
    "#two.py\n",
    "'''\n",
    "import one\n",
    "\n",
    "print('Top level in two.py')\n",
    "one.func()\n",
    "\n",
    "if __name__ == \"__main__\":\n",
    "    print('two.py is being run directly')\n",
    "else:\n",
    "    print('two.py is imported')\n",
    "'''\n",
    "\n",
    "# > python one.py\n",
    "# Top level in one.py\n",
    "# one.py is being run directly\n",
    "\n",
    "# > python two.py\n",
    "# Top level in one.py\n",
    "# one.py is imported\n",
    "# Top level in two.py\n",
    "# two.py is being run directly"
   ]
  },
  {
   "cell_type": "code",
   "execution_count": 6,
   "metadata": {},
   "outputs": [],
   "source": [
    "# used  for a code organization\n",
    "\n",
    "#one.py\n",
    "\n",
    "def func1():\n",
    "    print(\"Func1\")\n",
    "        \n",
    "def func2():\n",
    "    print(\"Func2\")\n",
    "    \n",
    "def func3():\n",
    "    print(\"Func3\")\n",
    "    \n",
    "    \n",
    "if __name == '__main__':\n",
    "    #Run script Here!\n",
    "    func2()\n",
    "    func1()"
   ]
  },
  {
   "cell_type": "code",
   "execution_count": null,
   "metadata": {},
   "outputs": [],
   "source": []
  }
 ],
 "metadata": {
  "kernelspec": {
   "display_name": "Python 3",
   "language": "python",
   "name": "python3"
  },
  "language_info": {
   "codemirror_mode": {
    "name": "ipython",
    "version": 3
   },
   "file_extension": ".py",
   "mimetype": "text/x-python",
   "name": "python",
   "nbconvert_exporter": "python",
   "pygments_lexer": "ipython3",
   "version": "3.6.4"
  }
 },
 "nbformat": 4,
 "nbformat_minor": 2
}
