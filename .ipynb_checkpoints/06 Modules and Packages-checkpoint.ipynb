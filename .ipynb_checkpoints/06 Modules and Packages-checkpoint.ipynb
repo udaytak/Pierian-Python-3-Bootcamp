{
 "cells": [
  {
   "cell_type": "markdown",
   "metadata": {},
   "source": [
    "01 Pip Install and PyPi"
   ]
  },
  {
   "cell_type": "code",
   "execution_count": null,
   "metadata": {},
   "outputs": [],
   "source": [
    "'''\n",
    "windows : command prompt\n",
    "> pip install requests #allows request information from websites online\n",
    "\n",
    "> pip install colorama #allows print colorful text\n",
    "> python\n",
    ">>> from colorama import init\n",
    ">>> init()\n",
    ">>> from coloama import Fore\n",
    ">>> print colorama import Fore\n",
    ">>> print(Fore.RED + \"Some red text\")\n",
    ">>> print(Fore.GREEN + \"Switched to green\")\n",
    "\n",
    "\n",
    "> pip install openpyxl\n",
    "> python\n",
    ">>> import openpyxl\n",
    "'''"
   ]
  },
  {
   "cell_type": "code",
   "execution_count": null,
   "metadata": {},
   "outputs": [],
   "source": []
  },
  {
   "cell_type": "markdown",
   "metadata": {},
   "source": [
    "02 Module and packages"
   ]
  },
  {
   "cell_type": "code",
   "execution_count": 1,
   "metadata": {},
   "outputs": [
    {
     "data": {
      "text/plain": [
       "'\\nown module - py script calling in py script\\n\\nsublimetext editor - mymodule.py\\ndef my_func():\\n    print(\"inside mymodule\")\\n\\nmyprogram.py\\nfrom mymodule import my_func\\n\\ncmd\\n> python myprogram.py\\ninside mymodule\\n\\n'"
      ]
     },
     "execution_count": 1,
     "metadata": {},
     "output_type": "execute_result"
    }
   ],
   "source": [
    "'''\n",
    "own module - py script calling in py script\n",
    "\n",
    "sublimetext editor - mymodule.py\n",
    "def my_func():\n",
    "    print(\"inside mymodule\")\n",
    "\n",
    "myprogram.py\n",
    "from mymodule import my_func\n",
    "\n",
    "cmd\n",
    "> python myprogram.py\n",
    "inside mymodule\n",
    "\n",
    "'''"
   ]
  },
  {
   "cell_type": "code",
   "execution_count": 2,
   "metadata": {},
   "outputs": [
    {
     "data": {
      "text/plain": [
       "'\\nsublimetext\\nfolder > myMainPackage > subPackage\\n\\nmyMainPackage>\\n__init__.py\\nsomeMainScript.py\\ndef main_report():\\n    print(\\'Function inside mainscript in main package\\')\\n\\nsubPackage>\\n__init__.py\\nMySubScript.py\\ndef sub_report():\\n    print(\\'Function inside subscript\\')\\n    \\nsublimetext editor - mymodule.py\\ndef my_func():\\n    print(\"inside mymodule\")\\n\\nmyprogram.py\\nfrom MyMainpackage import some_main_Scipt\\nfrom MyMainpackage.Subpackage import mysubscript\\n\\nsome_main_Scipt.main.report()\\nmysubscript.sub_report()\\n'"
      ]
     },
     "execution_count": 2,
     "metadata": {},
     "output_type": "execute_result"
    }
   ],
   "source": [
    "'''\n",
    "sublimetext\n",
    "folder > myMainPackage > subPackage\n",
    "\n",
    "myMainPackage>\n",
    "__init__.py\n",
    "someMainScript.py\n",
    "def main_report():\n",
    "    print('Function inside mainscript in main package')\n",
    "\n",
    "subPackage>\n",
    "__init__.py\n",
    "MySubScript.py\n",
    "def sub_report():\n",
    "    print('Function inside subscript')\n",
    "    \n",
    "sublimetext editor - mymodule.py\n",
    "def my_func():\n",
    "    print(\"inside mymodule\")\n",
    "\n",
    "myprogram.py\n",
    "from MyMainpackage import some_main_Scipt\n",
    "from MyMainpackage.Subpackage import mysubscript\n",
    "\n",
    "some_main_Scipt.main.report()\n",
    "mysubscript.sub_report()\n",
    "'''"
   ]
  },
  {
   "cell_type": "code",
   "execution_count": null,
   "metadata": {},
   "outputs": [],
   "source": []
  },
  {
   "cell_type": "markdown",
   "metadata": {},
   "source": [
    "03 __name__ and \"__main__\"\n",
    "\n",
    "if __name__ == \"__main__\":"
   ]
  },
  {
   "cell_type": "code",
   "execution_count": null,
   "metadata": {},
   "outputs": [],
   "source": [
    "'''\n",
    "one.py\n",
    "in python no main\n",
    "__name__ built in variable\n",
    "when code runs direclty >python one.py - runs all the code on identation 0\n",
    "__name__=\"__main__\" string gets assigned. check if python file runs directly\n",
    "if __name__ == \"__main__\":\n",
    "    myfunc()\n",
    "    \n",
    "one.py\n",
    "def func():\n",
    "    print('func in one.py')\n",
    "\n",
    "print('Top level in one.py')\n",
    "\n",
    "if __name__ == \"__main__\":\n",
    "    print('one.py is being run directly')\n",
    "else:\n",
    "    print('one.py is imported')\n",
    "\n",
    "two.py\n",
    "import one\n",
    "\n",
    "print('Top level in two.py')\n",
    "one.func()\n",
    "\n",
    "if __name__ == \"__main__\":\n",
    "    print('two.py is being run directly')\n",
    "else:\n",
    "    print('two.py is imported')\n",
    "    \n",
    "> python one.py\n",
    "Top level in one.py\n",
    "one.py is being run directly\n",
    "\n",
    "> python two.py\n",
    "Top level in one.py\n",
    "one.py is imported\n",
    "Top level in two.py\n",
    "two.py is being run directly\n",
    "'''"
   ]
  }
 ],
 "metadata": {
  "kernelspec": {
   "display_name": "Python 3",
   "language": "python",
   "name": "python3"
  },
  "language_info": {
   "codemirror_mode": {
    "name": "ipython",
    "version": 3
   },
   "file_extension": ".py",
   "mimetype": "text/x-python",
   "name": "python",
   "nbconvert_exporter": "python",
   "pygments_lexer": "ipython3",
   "version": "3.6.4"
  }
 },
 "nbformat": 4,
 "nbformat_minor": 2
}
