{
 "cells": [
  {
   "cell_type": "markdown",
   "metadata": {},
   "source": [
    "Tic Tac Toe"
   ]
  },
  {
   "cell_type": "code",
   "execution_count": 4,
   "metadata": {},
   "outputs": [],
   "source": [
    "from IPython.display import clear_output"
   ]
  },
  {
   "cell_type": "code",
   "execution_count": 5,
   "metadata": {},
   "outputs": [],
   "source": [
    "def display_board(board):\n",
    "    '''\n",
    "    function that can print out a board. \n",
    "    Set up your board as a list, where each index 1-9 corresponds with a number on a number pad, \n",
    "    so you get a 3 by 3 board representation.\n",
    "    '''\n",
    "    clear_output()  \n",
    "    # This only works in jupyter!\n",
    "    # To clear the screen in other IDEs, consider: print('\\n'*100)\n",
    "    \n",
    "    print(' ----- ----- -----')\n",
    "    print('|     |     |     |')\n",
    "    print(f'|  {board[7]}  |  {board[8]}  |  {board[9]}  |')\n",
    "    print('|     |     |     |')\n",
    "    print(' ----- ----- -----')\n",
    "    print('|     |     |     |')\n",
    "    print(f'|  {board[4]}  |  {board[5]}  |  {board[6]}  |')\n",
    "    print('|     |     |     |')\n",
    "    print(' ----- ----- -----')\n",
    "    print('|     |     |     |')\n",
    "    print(f'|  {board[1]}  |  {board[2]}  |  {board[3]}  |')\n",
    "    print('|     |     |     |')\n",
    "    print(' ----- ----- -----')"
   ]
  },
  {
   "cell_type": "code",
   "execution_count": 6,
   "metadata": {},
   "outputs": [
    {
     "name": "stdout",
     "output_type": "stream",
     "text": [
      " ----- ----- -----\n",
      "|     |     |     |\n",
      "|  X  |  O  |  X  |\n",
      "|     |     |     |\n",
      " ----- ----- -----\n",
      "|     |     |     |\n",
      "|  O  |  X  |  O  |\n",
      "|     |     |     |\n",
      " ----- ----- -----\n",
      "|     |     |     |\n",
      "|  X  |  O  |  X  |\n",
      "|     |     |     |\n",
      " ----- ----- -----\n"
     ]
    }
   ],
   "source": [
    "#TEST Step 1: Run your function on a test version of the board list, and make adjustments as necessary\n",
    "test_board = ['#','X','O','X','O','X','O','X','O','X']\n",
    "display_board(test_board)"
   ]
  },
  {
   "cell_type": "code",
   "execution_count": 7,
   "metadata": {},
   "outputs": [],
   "source": [
    "def player_input():\n",
    "    '''\n",
    "    This function can take in a player input and assign their marker as 'X' or 'O'. \n",
    "\n",
    "    '''\n",
    "    marker = ''\n",
    "    \n",
    "    while not (marker == 'X' or marker == 'O'):\n",
    "        marker = input('Player 1: Do you want to be X or O? ').upper()\n",
    "\n",
    "    if marker == 'X':\n",
    "        return ('X', 'O')\n",
    "    else:\n",
    "        return ('O', 'X')"
   ]
  },
  {
   "cell_type": "code",
   "execution_count": 10,
   "metadata": {},
   "outputs": [
    {
     "name": "stdout",
     "output_type": "stream",
     "text": [
      "Player 1: Do you want to be X or O? X\n"
     ]
    },
    {
     "data": {
      "text/plain": [
       "('X', 'O')"
      ]
     },
     "execution_count": 10,
     "metadata": {},
     "output_type": "execute_result"
    }
   ],
   "source": [
    "# TEST Step 2: Run the function to make sure it returns the desired output\n",
    "player_input()"
   ]
  },
  {
   "cell_type": "code",
   "execution_count": 11,
   "metadata": {},
   "outputs": [],
   "source": [
    "def place_marker(board, marker, position):\n",
    "    '''\n",
    "    This function will assign the input parameters to the board.\n",
    "    Input : Board list object, a marker ('X' or 'O'), and a desired position (number 1-9) \n",
    "\n",
    "    '''\n",
    "    board[position] = marker"
   ]
  },
  {
   "cell_type": "code",
   "execution_count": 12,
   "metadata": {},
   "outputs": [
    {
     "name": "stdout",
     "output_type": "stream",
     "text": [
      " ----- ----- -----\n",
      "|     |     |     |\n",
      "|  X  |  $  |  X  |\n",
      "|     |     |     |\n",
      " ----- ----- -----\n",
      "|     |     |     |\n",
      "|  O  |  X  |  O  |\n",
      "|     |     |     |\n",
      " ----- ----- -----\n",
      "|     |     |     |\n",
      "|  X  |  O  |  X  |\n",
      "|     |     |     |\n",
      " ----- ----- -----\n"
     ]
    }
   ],
   "source": [
    "# TEST Step 3: run the place marker function using test parameters and display the modified board\n",
    "place_marker(test_board,'$',8)\n",
    "display_board(test_board)"
   ]
  },
  {
   "cell_type": "code",
   "execution_count": 13,
   "metadata": {},
   "outputs": [],
   "source": [
    "def win_check(board,mark):\n",
    "    '''\n",
    "    This function takes a board and a mark (X or O) and then checks to see if that mark has won.\n",
    "    \n",
    "    '''\n",
    "    return ((board[7] == mark and board[8] == mark and board[9] == mark) or # across the top\n",
    "    (board[4] == mark and board[5] == mark and board[6] == mark) or # across the middle\n",
    "    (board[1] == mark and board[2] == mark and board[3] == mark) or # across the bottom\n",
    "    (board[7] == mark and board[4] == mark and board[1] == mark) or # down the middle\n",
    "    (board[8] == mark and board[5] == mark and board[2] == mark) or # down the middle\n",
    "    (board[9] == mark and board[6] == mark and board[3] == mark) or # down the right side\n",
    "    (board[7] == mark and board[5] == mark and board[3] == mark) or # diagonal\n",
    "    (board[9] == mark and board[5] == mark and board[1] == mark)) # diagonal"
   ]
  },
  {
   "cell_type": "code",
   "execution_count": 14,
   "metadata": {},
   "outputs": [
    {
     "data": {
      "text/plain": [
       "True"
      ]
     },
     "execution_count": 14,
     "metadata": {},
     "output_type": "execute_result"
    }
   ],
   "source": [
    "#TEST Step 4: run the win_check function against our test_board - it should return True\n",
    "win_check(test_board,'X')"
   ]
  },
  {
   "cell_type": "code",
   "execution_count": 15,
   "metadata": {},
   "outputs": [],
   "source": [
    "from random import randint\n",
    "\n",
    "def choose_first():\n",
    "    '''\n",
    "    This function uses the random module to randomly decide which player goes first. \n",
    "    It uses random.randint() and Return a string of which player went first.\n",
    "    '''\n",
    "    if randint(1,2)  == 1:\n",
    "        return 'Player 1'\n",
    "    else:\n",
    "        return 'Player 2'"
   ]
  },
  {
   "cell_type": "code",
   "execution_count": 16,
   "metadata": {},
   "outputs": [],
   "source": [
    "def space_check(board, position):\n",
    "    '''\n",
    "    This function returns a boolean indicating whether a space on the board is freely available.\n",
    "    \n",
    "    '''\n",
    "    return board[position] == ' '"
   ]
  },
  {
   "cell_type": "code",
   "execution_count": 17,
   "metadata": {},
   "outputs": [],
   "source": [
    "def full_board_check(board):\n",
    "    '''\n",
    "    function that checks if the board is full and returns a boolean value. True if full, False otherwise.\n",
    "    \n",
    "    '''\n",
    "    for X in range(1,10):\n",
    "        if space_check(board, X):\n",
    "            return False\n",
    "    return True"
   ]
  },
  {
   "cell_type": "code",
   "execution_count": 18,
   "metadata": {},
   "outputs": [],
   "source": [
    "def player_choice(board):\n",
    "    '''\n",
    "    This function that asks for a player's next position (as a number 1-9) \n",
    "    and checks a free position and If it is, then return the position for later use.\n",
    "    '''\n",
    "    position = 0\n",
    "    \n",
    "    while position not in range(1,10) or not space_check(board, position):\n",
    "        position = int(input('Choose your position: 1 to 9'))\n",
    "      \n",
    "    return position   "
   ]
  },
  {
   "cell_type": "code",
   "execution_count": 19,
   "metadata": {},
   "outputs": [],
   "source": [
    "def replay():\n",
    "    '''\n",
    "    This function asks the player if they want to play again and returns a boolean True if they do want to play again.\n",
    "    '''\n",
    "    return input(\"New Game? : (Y/N)\").lower()[0] == 'y'"
   ]
  },
  {
   "cell_type": "code",
   "execution_count": 20,
   "metadata": {},
   "outputs": [
    {
     "name": "stdout",
     "output_type": "stream",
     "text": [
      " ----- ----- -----\n",
      "|     |     |     |\n",
      "|     |     |     |\n",
      "|     |     |     |\n",
      " ----- ----- -----\n",
      "|     |     |     |\n",
      "|  O  |  O  |     |\n",
      "|     |     |     |\n",
      " ----- ----- -----\n",
      "|     |     |     |\n",
      "|  X  |  X  |  X  |\n",
      "|     |     |     |\n",
      " ----- ----- -----\n",
      "Congratulations Player 1 won!\n",
      "New Game? : (Y/N)N\n"
     ]
    }
   ],
   "source": [
    "print('Welcome to Tic Tac Toe!')\n",
    "\n",
    "while True:\n",
    "\n",
    "    #reset the board\n",
    "    the_board = [' ']*10\n",
    "    player1_marker, player2_marker = player_input()\n",
    "    turn = choose_first()\n",
    "    \n",
    "    print (turn + ' will go first')\n",
    "    \n",
    "    print(' ----- ----- -----')\n",
    "    print('|     |     |     |')\n",
    "    print('|  7  |  8  |  9  |')\n",
    "    print('|     |     |     |')\n",
    "    print(' ----- ----- -----')\n",
    "    print('|     |     |     |')\n",
    "    print('|  4  |  5  |  6  |')\n",
    "    print('|     |     |     |')\n",
    "    print(' ----- ----- -----')\n",
    "    print('|     |     |     |')\n",
    "    print('|  1  |  2  |  3  |')\n",
    "    print('|     |     |     |')\n",
    "    print(' ----- ----- -----')\n",
    "    \n",
    "    play_game = input('Ready to play?(Y/N)')\n",
    "    \n",
    "\n",
    "    \n",
    "    if play_game.lower()[0] == 'y':\n",
    "        game_on = True\n",
    "    else:\n",
    "        game_on = False\n",
    "        \n",
    "    while game_on:\n",
    "        \n",
    "        if turn == 'Player 1':\n",
    "            #Player 1 turn.\n",
    "                    \n",
    "            display_board(the_board)\n",
    "            position = player_choice(the_board)\n",
    "            place_marker(the_board, player1_marker, position)\n",
    "    \n",
    "  \n",
    "            if win_check(the_board, player1_marker):\n",
    "                display_board(the_board)\n",
    "                print('Congratulations Player 1 won!')\n",
    "                game_on = False\n",
    "            else:\n",
    "                if(full_board_check(the_board)):\n",
    "                    display_board(the_board)\n",
    "                    print(\"It's a draw!\")\n",
    "                    break\n",
    "                else:\n",
    "                    turn = 'Player 2'\n",
    "        else:\n",
    "            #Player 2 turn. \n",
    "                          \n",
    "            display_board(the_board)\n",
    "            position = player_choice(the_board)\n",
    "            place_marker(the_board, player2_marker, position)\n",
    "    \n",
    "  \n",
    "            if win_check(the_board, player2_marker):\n",
    "                display_board(the_board)\n",
    "                print('Congratulations Player 2 won!')\n",
    "                game_on = False\n",
    "            else:\n",
    "                if(full_board_check(the_board)):\n",
    "                    display_board(the_board)\n",
    "                    print(\"It's a draw!\")\n",
    "                    break\n",
    "                else:\n",
    "                    turn = 'Player 1'\n",
    "                          \n",
    "    if not replay():\n",
    "        break"
   ]
  },
  {
   "cell_type": "code",
   "execution_count": null,
   "metadata": {},
   "outputs": [],
   "source": []
  }
 ],
 "metadata": {
  "kernelspec": {
   "display_name": "Python 3",
   "language": "python",
   "name": "python3"
  },
  "language_info": {
   "codemirror_mode": {
    "name": "ipython",
    "version": 3
   },
   "file_extension": ".py",
   "mimetype": "text/x-python",
   "name": "python",
   "nbconvert_exporter": "python",
   "pygments_lexer": "ipython3",
   "version": "3.7.0"
  }
 },
 "nbformat": 4,
 "nbformat_minor": 2
}
