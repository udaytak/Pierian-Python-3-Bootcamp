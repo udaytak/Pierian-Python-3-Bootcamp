{
 "cells": [
  {
   "cell_type": "markdown",
   "metadata": {},
   "source": [
    "<b>Pip Install and PyPi"
   ]
  },
  {
   "cell_type": "code",
   "execution_count": null,
   "metadata": {},
   "outputs": [],
   "source": [
    "#pip install requests"
   ]
  },
  {
   "cell_type": "code",
   "execution_count": 1,
   "metadata": {},
   "outputs": [],
   "source": [
    "# pip install colorama  --  # allows print colorful text on command prompt\n",
    "from colorama import init\n",
    "init()"
   ]
  },
  {
   "cell_type": "code",
   "execution_count": 3,
   "metadata": {},
   "outputs": [
    {
     "name": "stdout",
     "output_type": "stream",
     "text": [
      "Some red text\n",
      "Switched to green\n"
     ]
    }
   ],
   "source": [
    "from colorama import Fore\n",
    "\n",
    "print(Fore.RED + \"Some red text\")\n",
    "print(Fore.GREEN + \"Switched to green\")"
   ]
  },
  {
   "cell_type": "code",
   "execution_count": 4,
   "metadata": {},
   "outputs": [],
   "source": [
    "# pip install openpyxl - use excel with Python\n",
    "import openpyxl"
   ]
  },
  {
   "cell_type": "code",
   "execution_count": null,
   "metadata": {},
   "outputs": [],
   "source": []
  },
  {
   "cell_type": "markdown",
   "metadata": {},
   "source": [
    "<b>Module and packages"
   ]
  },
  {
   "cell_type": "code",
   "execution_count": null,
   "metadata": {},
   "outputs": [],
   "source": [
    "# module - .py script calling in .py script"
   ]
  },
  {
   "cell_type": "code",
   "execution_count": null,
   "metadata": {},
   "outputs": [],
   "source": [
    "# sublimetext editor - \n",
    "\n",
    "# mymodule.py\n",
    "'''\n",
    "def my_func():\n",
    "    print(\"inside mymodule\")\n",
    "'''\n",
    "\n",
    "#myprogram.py\n",
    "'''\n",
    "from mymodule import my_func\n",
    "\n",
    "my_func()\n",
    "'''\n",
    "\n",
    "#cmd\n",
    "'''\n",
    "python myprogram.py\n",
    "\"inside mymodule\"\n",
    "'''"
   ]
  },
  {
   "cell_type": "code",
   "execution_count": null,
   "metadata": {},
   "outputs": [],
   "source": []
  },
  {
   "cell_type": "markdown",
   "metadata": {},
   "source": [
    "<b>Package and Sub-package"
   ]
  },
  {
   "cell_type": "code",
   "execution_count": 4,
   "metadata": {},
   "outputs": [
    {
     "data": {
      "text/plain": [
       "'\\nfrom MyMainpackage import someMainScript\\nfrom MyMainpackage.Subpackage import mysubscript\\n\\nsomeMainScript.main_report()\\nMySubScript.sub_report()\\n'"
      ]
     },
     "execution_count": 4,
     "metadata": {},
     "output_type": "execute_result"
    }
   ],
   "source": [
    "# sublimetext\n",
    "# folder > MyMainPackage > SubPackage\n",
    "# keep __init__.py - empty to make folder module \n",
    "\n",
    "# MyMainPackage> # __init__.py\n",
    "#someMainScript.py\n",
    "'''\n",
    "def main_report():\n",
    "    print('Function inside mainscript in main package')\n",
    "'''\n",
    "\n",
    "#SubPackage> # __init__.py\n",
    "#MySubScript.py\n",
    "'''\n",
    "def sub_report():\n",
    "    print('Function inside subscript')\n",
    "'''\n",
    "    \n",
    "#mymodule.py\n",
    "'''\n",
    "def my_func():\n",
    "    print(\"inside mymodule\")\n",
    "'''\n",
    "\n",
    "#myprogram.py\n",
    "'''\n",
    "from MyMainpackage import someMainScript\n",
    "from MyMainpackage.Subpackage import mysubscript\n",
    "\n",
    "someMainScript.main_report()\n",
    "MySubScript.sub_report()\n",
    "'''"
   ]
  },
  {
   "cell_type": "code",
   "execution_count": null,
   "metadata": {},
   "outputs": [],
   "source": []
  },
  {
   "cell_type": "markdown",
   "metadata": {},
   "source": [
    "03 __name__ and \"__main__\"\n",
    "\n",
    "if __name__ == \"__main__\":"
   ]
  },
  {
   "cell_type": "code",
   "execution_count": null,
   "metadata": {},
   "outputs": [],
   "source": [
    "'''\n",
    "one.py\n",
    "in python no main\n",
    "__name__ built in variable\n",
    "when code runs direclty >python one.py - runs all the code on identation 0\n",
    "__name__=\"__main__\" string gets assigned. check if python file runs directly\n",
    "if __name__ == \"__main__\":\n",
    "    myfunc()\n",
    "    \n",
    "one.py\n",
    "def func():\n",
    "    print('func in one.py')\n",
    "\n",
    "print('Top level in one.py')\n",
    "\n",
    "if __name__ == \"__main__\":\n",
    "    print('one.py is being run directly')\n",
    "else:\n",
    "    print('one.py is imported')\n",
    "\n",
    "two.py\n",
    "import one\n",
    "\n",
    "print('Top level in two.py')\n",
    "one.func()\n",
    "\n",
    "if __name__ == \"__main__\":\n",
    "    print('two.py is being run directly')\n",
    "else:\n",
    "    print('two.py is imported')\n",
    "    \n",
    "> python one.py\n",
    "Top level in one.py\n",
    "one.py is being run directly\n",
    "\n",
    "> python two.py\n",
    "Top level in one.py\n",
    "one.py is imported\n",
    "Top level in two.py\n",
    "two.py is being run directly\n",
    "'''"
   ]
  }
 ],
 "metadata": {
  "kernelspec": {
   "display_name": "Python 3",
   "language": "python",
   "name": "python3"
  },
  "language_info": {
   "codemirror_mode": {
    "name": "ipython",
    "version": 3
   },
   "file_extension": ".py",
   "mimetype": "text/x-python",
   "name": "python",
   "nbconvert_exporter": "python",
   "pygments_lexer": "ipython3",
   "version": "3.6.4"
  }
 },
 "nbformat": 4,
 "nbformat_minor": 2
}
