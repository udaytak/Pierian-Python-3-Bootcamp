{
 "cells": [
  {
   "cell_type": "markdown",
   "metadata": {},
   "source": [
    "'Print only the words that start with s in this sentence'"
   ]
  },
  {
   "cell_type": "code",
   "execution_count": 2,
   "metadata": {},
   "outputs": [
    {
     "data": {
      "text/plain": [
       "['start', 's', 'sentence']"
      ]
     },
     "execution_count": 2,
     "metadata": {},
     "output_type": "execute_result"
    }
   ],
   "source": [
    "s = 'Print only the words that start with s in this sentence'\n",
    "\n",
    "s_list = s.lower().split()\n",
    "\n",
    "[x for x in s_list if x[0]=='s']"
   ]
  },
  {
   "cell_type": "code",
   "execution_count": 3,
   "metadata": {},
   "outputs": [],
   "source": [
    "def print_word_letter(sentence, letter):\n",
    "    Word_List  = sentence.lower().split()\n",
    "    Letter_List = list()\n",
    "\n",
    "    for x in Word_List:\n",
    "        if x[0] == letter:\n",
    "            Letter_List.append(x)\n",
    "    return Letter_List"
   ]
  },
  {
   "cell_type": "code",
   "execution_count": 5,
   "metadata": {},
   "outputs": [
    {
     "data": {
      "text/plain": [
       "['the', 'that', 'this']"
      ]
     },
     "execution_count": 5,
     "metadata": {},
     "output_type": "execute_result"
    }
   ],
   "source": [
    "sentence = 'Print only the words that start with a given letter in this sentence'\n",
    "letter = 't'\n",
    "print_word_letter(sentence, letter)"
   ]
  },
  {
   "cell_type": "code",
   "execution_count": 6,
   "metadata": {},
   "outputs": [
    {
     "name": "stdout",
     "output_type": "stream",
     "text": [
      "ALL TEST CASES PASSED\n"
     ]
    }
   ],
   "source": [
    "from nose.tools import assert_equal\n",
    "\n",
    "class printWordsTest(object):\n",
    "    def test(self, sol):\n",
    "        sentence = 'Print only the words that start with s in this sentence'\n",
    "        assert_equal(sol(sentence, 's'),['start', 's', 'sentence'])\n",
    "        assert_equal(sol(sentence,'t'),['the','that','this'])\n",
    "        print(\"ALL TEST CASES PASSED\")\n",
    "        \n",
    "pwt = printWordsTest()\n",
    "pwt.test(print_word_letter)"
   ]
  },
  {
   "cell_type": "code",
   "execution_count": null,
   "metadata": {},
   "outputs": [],
   "source": []
  },
  {
   "cell_type": "markdown",
   "metadata": {},
   "source": [
    "Use range() to print all the even numbers from 0 to 10"
   ]
  },
  {
   "cell_type": "code",
   "execution_count": 21,
   "metadata": {},
   "outputs": [
    {
     "name": "stdout",
     "output_type": "stream",
     "text": [
      "[0, 2, 4, 6, 8]\n"
     ]
    }
   ],
   "source": [
    "print(list(range(0,10,2)))"
   ]
  },
  {
   "cell_type": "code",
   "execution_count": 23,
   "metadata": {},
   "outputs": [
    {
     "data": {
      "text/plain": [
       "[0, 2, 4, 6, 8]"
      ]
     },
     "execution_count": 23,
     "metadata": {},
     "output_type": "execute_result"
    }
   ],
   "source": [
    "[x for x in range(10) if x%2==0]"
   ]
  },
  {
   "cell_type": "code",
   "execution_count": 26,
   "metadata": {},
   "outputs": [],
   "source": [
    "def even_num_gen(num):\n",
    "    l1 = [x for x in range(num) if x%2 == 0]\n",
    "    return l1"
   ]
  },
  {
   "cell_type": "code",
   "execution_count": 27,
   "metadata": {},
   "outputs": [
    {
     "data": {
      "text/plain": [
       "[0, 2, 4, 6, 8, 10]"
      ]
     },
     "execution_count": 27,
     "metadata": {},
     "output_type": "execute_result"
    }
   ],
   "source": [
    "even_num_gen(11)"
   ]
  },
  {
   "cell_type": "code",
   "execution_count": 28,
   "metadata": {},
   "outputs": [
    {
     "name": "stdout",
     "output_type": "stream",
     "text": [
      "ALL TESTS ARE PASSED\n"
     ]
    }
   ],
   "source": [
    "from nose.tools import assert_equal\n",
    "\n",
    "class evenNumTest(object):\n",
    "    def test(self, sol):\n",
    "        assert_equal(sol(11),[0, 2, 4, 6, 8, 10])\n",
    "        assert_equal(sol(5),[0, 2, 4])\n",
    "        print('ALL TESTS ARE PASSED')\n",
    "\n",
    "ent = evenNumTest()\n",
    "ent.test(even_num_gen)"
   ]
  },
  {
   "cell_type": "code",
   "execution_count": null,
   "metadata": {},
   "outputs": [],
   "source": []
  },
  {
   "cell_type": "markdown",
   "metadata": {},
   "source": [
    "Use a List Comprehension to create a list of all numbers between 1 and 50 that are divisible by 3."
   ]
  },
  {
   "cell_type": "code",
   "execution_count": 30,
   "metadata": {},
   "outputs": [
    {
     "data": {
      "text/plain": [
       "[3, 6, 9, 12, 15, 18, 21, 24, 27, 30, 33, 36, 39, 42, 45, 48]"
      ]
     },
     "execution_count": 30,
     "metadata": {},
     "output_type": "execute_result"
    }
   ],
   "source": [
    "[x for x in range(1,51) if x%3==0]"
   ]
  },
  {
   "cell_type": "code",
   "execution_count": 33,
   "metadata": {},
   "outputs": [],
   "source": [
    "def multiple_3_gen(num):\n",
    "    l1 = list()\n",
    "    for x in range(1,num):\n",
    "        if x%3 == 0:\n",
    "            l1.append(x)\n",
    "    return l1"
   ]
  },
  {
   "cell_type": "code",
   "execution_count": 34,
   "metadata": {},
   "outputs": [
    {
     "data": {
      "text/plain": [
       "[3, 6, 9, 12, 15, 18, 21, 24, 27, 30, 33, 36, 39, 42, 45, 48]"
      ]
     },
     "execution_count": 34,
     "metadata": {},
     "output_type": "execute_result"
    }
   ],
   "source": [
    "multiple_3_gen(51)"
   ]
  },
  {
   "cell_type": "code",
   "execution_count": 36,
   "metadata": {},
   "outputs": [
    {
     "name": "stdout",
     "output_type": "stream",
     "text": [
      "ALL TESTS ARE PASSED\n"
     ]
    }
   ],
   "source": [
    "from nose.tools import assert_equal\n",
    "\n",
    "class testMultiple3(object):\n",
    "    def test(self, sol):\n",
    "        assert_equal(multiple_3_gen(51),[3, 6, 9, 12, 15, 18, 21, 24, 27, 30, 33, 36, 39, 42, 45, 48])\n",
    "        print('ALL TESTS ARE PASSED')\n",
    "        \n",
    "tm3 = testMultiple3()\n",
    "tm3.test(multiple_3_gen)\n",
    "        "
   ]
  },
  {
   "cell_type": "code",
   "execution_count": null,
   "metadata": {},
   "outputs": [],
   "source": []
  },
  {
   "cell_type": "markdown",
   "metadata": {},
   "source": [
    "Write a program that prints the integers from 1 to 100.\n",
    "\n",
    "But for multiples of 3 print \"Fizz\" instead of the number, and for the multiples of 2 print \"Buzz\".\n",
    "\n",
    "For numbers which are multiples of both 2 and 3 print \"FizzBuzz\""
   ]
  },
  {
   "cell_type": "code",
   "execution_count": 53,
   "metadata": {},
   "outputs": [],
   "source": [
    "def fizz_buzz(number):\n",
    "    l1 = list(range(1,number))\n",
    "    l2 = list()\n",
    "    for n in l1:\n",
    "        if n % 6 == 0:\n",
    "            l2.append('FizzBuzz')\n",
    "        elif n% 3 == 0:\n",
    "            l2.append('Fizz')\n",
    "        elif n% 2 == 0:\n",
    "            l2.append('Buzz')\n",
    "        else:\n",
    "            l2.append(n)\n",
    "    return l2"
   ]
  },
  {
   "cell_type": "code",
   "execution_count": 55,
   "metadata": {},
   "outputs": [
    {
     "data": {
      "text/plain": [
       "[1, 'Buzz', 'Fizz', 'Buzz', 5, 'FizzBuzz', 7, 'Buzz', 'Fizz']"
      ]
     },
     "execution_count": 55,
     "metadata": {},
     "output_type": "execute_result"
    }
   ],
   "source": [
    "fizz_buzz(10)"
   ]
  },
  {
   "cell_type": "code",
   "execution_count": 56,
   "metadata": {},
   "outputs": [
    {
     "name": "stdout",
     "output_type": "stream",
     "text": [
      "ALL TESTS ARE PASSED\n"
     ]
    }
   ],
   "source": [
    "from nose.tools import assert_equal\n",
    "\n",
    "class testFizzBuzz(object):\n",
    "    def test(self, sol):\n",
    "        assert_equal(sol(7),[1, 'Buzz', 'Fizz', 'Buzz', 5, 'FizzBuzz'])\n",
    "        assert_equal(sol(10),[1, 'Buzz', 'Fizz', 'Buzz', 5, 'FizzBuzz', 7, 'Buzz', 'Fizz'])\n",
    "        print('ALL TESTS ARE PASSED')\n",
    "        \n",
    "tfb = testFizzBuzz()\n",
    "tfb.test(fizz_buzz)"
   ]
  },
  {
   "cell_type": "code",
   "execution_count": null,
   "metadata": {},
   "outputs": [],
   "source": []
  },
  {
   "cell_type": "markdown",
   "metadata": {},
   "source": [
    "Print every word in this sentence that has an even number of letters"
   ]
  },
  {
   "cell_type": "code",
   "execution_count": 58,
   "metadata": {},
   "outputs": [
    {
     "data": {
      "text/plain": [
       "['word', 'in', 'this', 'sentence', 'that', 'an', 'even', 'number', 'of']"
      ]
     },
     "execution_count": 58,
     "metadata": {},
     "output_type": "execute_result"
    }
   ],
   "source": [
    "sentence  = 'Print every word in this sentence that has an even number of letters'\n",
    "[x for x in sentence.split() if len(x)%2==0]"
   ]
  },
  {
   "cell_type": "code",
   "execution_count": 61,
   "metadata": {},
   "outputs": [],
   "source": [
    "sentence  = 'Print every word in this sentence that has an even number of letters'\n",
    "def word_even(sentence):\n",
    "    l1 = list()\n",
    "    for x in sentence.split():\n",
    "        if len(x)%2 == 0:\n",
    "            l1.append(x)\n",
    "    return(l1)"
   ]
  },
  {
   "cell_type": "code",
   "execution_count": 62,
   "metadata": {},
   "outputs": [
    {
     "data": {
      "text/plain": [
       "['word', 'in', 'this', 'sentence', 'that', 'an', 'even', 'number', 'of']"
      ]
     },
     "execution_count": 62,
     "metadata": {},
     "output_type": "execute_result"
    }
   ],
   "source": [
    "word_even(sentence)"
   ]
  },
  {
   "cell_type": "code",
   "execution_count": 63,
   "metadata": {},
   "outputs": [
    {
     "name": "stdout",
     "output_type": "stream",
     "text": [
      "ALL TESTS ARE PASSED\n"
     ]
    }
   ],
   "source": [
    "from nose.tools import assert_equal\n",
    "\n",
    "class wordEvenTest(object):\n",
    "    def test(self, sol):\n",
    "        assert_equal(sol('every word in this'),['word', 'in', 'this'])\n",
    "        print('ALL TESTS ARE PASSED')\n",
    "        \n",
    "twe = wordEvenTest()\n",
    "twe.test(word_even)"
   ]
  },
  {
   "cell_type": "code",
   "execution_count": null,
   "metadata": {},
   "outputs": [],
   "source": []
  },
  {
   "cell_type": "markdown",
   "metadata": {},
   "source": [
    "Create a list of the first letters of every word in this string"
   ]
  },
  {
   "cell_type": "code",
   "execution_count": 66,
   "metadata": {},
   "outputs": [
    {
     "data": {
      "text/plain": [
       "['C', 'a', 'l', 'o', 't', 'f', 'l', 'o', 'e', 'w', 'i', 't', 's']"
      ]
     },
     "execution_count": 66,
     "metadata": {},
     "output_type": "execute_result"
    }
   ],
   "source": [
    "sentence ='Create a list of the first letters of every word in this string'\n",
    "[x[0] for x in sentence.split()]"
   ]
  },
  {
   "cell_type": "code",
   "execution_count": 70,
   "metadata": {},
   "outputs": [],
   "source": [
    "sentence ='Create a list of the first letters of every word in this string'\n",
    "\n",
    "def first_letter(sentence):\n",
    "    l1 = list()\n",
    "    for x in sentence.split():\n",
    "        l1.append(x[0])\n",
    "    return l1"
   ]
  },
  {
   "cell_type": "code",
   "execution_count": 71,
   "metadata": {},
   "outputs": [
    {
     "data": {
      "text/plain": [
       "['C', 'a', 'l', 'o', 't', 'f', 'l', 'o', 'e', 'w', 'i', 't', 's']"
      ]
     },
     "execution_count": 71,
     "metadata": {},
     "output_type": "execute_result"
    }
   ],
   "source": [
    "sentence ='Create a list of the first letters of every word in this string'\n",
    "first_letter(sentence)"
   ]
  },
  {
   "cell_type": "code",
   "execution_count": 73,
   "metadata": {},
   "outputs": [
    {
     "name": "stdout",
     "output_type": "stream",
     "text": [
      "ALL TESTS ARE PASSED\n"
     ]
    }
   ],
   "source": [
    "from nose.tools import assert_equal\n",
    "\n",
    "class testFirstLetter(object):\n",
    "    def test(self,sol):\n",
    "        assert_equal(sol('Create a list'),['C', 'a', 'l'])\n",
    "        print('ALL TESTS ARE PASSED')\n",
    "        \n",
    "tfl = testFirstLetter()\n",
    "tfl.test(first_letter)"
   ]
  },
  {
   "cell_type": "code",
   "execution_count": null,
   "metadata": {},
   "outputs": [],
   "source": []
  },
  {
   "cell_type": "markdown",
   "metadata": {},
   "source": [
    "The Challenge:\n",
    "\n",
    "Write a program that picks a random integer from 1 to 100, and has players guess the number. The rules are:\n",
    "\n",
    "If a player's guess is less than 1 or greater than 100, say \"OUT OF BOUNDS\"\n",
    "\n",
    "On a player's first turn, if their guess is\n",
    "\n",
    "within 10 of the number, return \"WARM!\"\n",
    "\n",
    "further than 10 away from the number, return \"COLD!\"\n",
    "\n",
    "On all subsequent turns, if a guess is\n",
    "\n",
    "closer to the number than the previous guess return \"WARMER!\"\n",
    "\n",
    "farther from the number than the previous guess, return \"COLDER!\"\n",
    "\n",
    "When the player's guess equals the number, tell them they've guessed correctly and how many guesses it took!"
   ]
  },
  {
   "cell_type": "code",
   "execution_count": 82,
   "metadata": {},
   "outputs": [],
   "source": [
    "from random import randint\n",
    "\n",
    "def warm_cold():\n",
    "    rand = randint(1,100)\n",
    "\n",
    "    p1 = int(input('Please Guess a number between 1 and 100:'))\n",
    "\n",
    "    if(1 < p1 < 100):\n",
    "        if(abs(rand-p1) < 11):\n",
    "            print('WARM')\n",
    "        else:\n",
    "            print('COLD!')\n",
    "    else:\n",
    "        print(\"OUT OF BOUNDS\")"
   ]
  },
  {
   "cell_type": "code",
   "execution_count": 83,
   "metadata": {},
   "outputs": [
    {
     "name": "stdout",
     "output_type": "stream",
     "text": [
      "Please Guess a number between 1 and 100:40\n",
      "COLD!\n"
     ]
    }
   ],
   "source": [
    "warm_cold()"
   ]
  },
  {
   "cell_type": "code",
   "execution_count": null,
   "metadata": {},
   "outputs": [],
   "source": []
  }
 ],
 "metadata": {
  "kernelspec": {
   "display_name": "Python 3",
   "language": "python",
   "name": "python3"
  },
  "language_info": {
   "codemirror_mode": {
    "name": "ipython",
    "version": 3
   },
   "file_extension": ".py",
   "mimetype": "text/x-python",
   "name": "python",
   "nbconvert_exporter": "python",
   "pygments_lexer": "ipython3",
   "version": "3.6.4"
  }
 },
 "nbformat": 4,
 "nbformat_minor": 2
}
