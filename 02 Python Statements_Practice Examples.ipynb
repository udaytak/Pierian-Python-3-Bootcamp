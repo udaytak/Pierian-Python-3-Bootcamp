{
 "cells": [
  {
   "cell_type": "markdown",
   "metadata": {},
   "source": [
    "'Print only the words that start with s in this sentence'"
   ]
  },
  {
   "cell_type": "code",
   "execution_count": 1,
   "metadata": {},
   "outputs": [
    {
     "data": {
      "text/plain": [
       "['start', 's', 'sentence']"
      ]
     },
     "execution_count": 1,
     "metadata": {},
     "output_type": "execute_result"
    }
   ],
   "source": [
    "s = 'Print only the words that start with s in this sentence'\n",
    "\n",
    "s_list = s.split()\n",
    "\n",
    "[x for x in s_list if x[0]=='s']"
   ]
  },
  {
   "cell_type": "code",
   "execution_count": 10,
   "metadata": {},
   "outputs": [],
   "source": [
    "def print_word_letter(sentence, letter):\n",
    "    Word_List  = sentence.split()\n",
    "    Letter_List = list()\n",
    "\n",
    "    for x in Word_List:\n",
    "        if x[0] == letter:\n",
    "            Letter_List.append(x)\n",
    "    return Letter_List"
   ]
  },
  {
   "cell_type": "code",
   "execution_count": 11,
   "metadata": {},
   "outputs": [
    {
     "data": {
      "text/plain": [
       "['start', 's', 'sentence']"
      ]
     },
     "execution_count": 11,
     "metadata": {},
     "output_type": "execute_result"
    }
   ],
   "source": [
    "sentence = 'Print only the words that start with s in this sentence'\n",
    "letter = 's'\n",
    "print_word_letter(sentence, letter)"
   ]
  },
  {
   "cell_type": "code",
   "execution_count": null,
   "metadata": {},
   "outputs": [],
   "source": [
    "from nose.tools import assert\n",
    "\n",
    "class printWordsTest(object):\n",
    "    def test(self, sol):\n",
    "        sentence = 'Print only the words that start with s in this sentence'\n",
    "        letter = 's'\n",
    "        assert_equal(sol(sentence, letter),['start', 's', 'sentence'])\n",
    "        letter = 't'\n",
    "        assert_equal(sol(sentence,letter),['that','this'])\n",
    "        print(\"ALL TEST CASES PASSED\")\n",
    "        \n",
    "pwt = printWordsTest()\n",
    "pwt.test()"
   ]
  }
 ],
 "metadata": {
  "kernelspec": {
   "display_name": "Python 3",
   "language": "python",
   "name": "python3"
  },
  "language_info": {
   "codemirror_mode": {
    "name": "ipython",
    "version": 3
   },
   "file_extension": ".py",
   "mimetype": "text/x-python",
   "name": "python",
   "nbconvert_exporter": "python",
   "pygments_lexer": "ipython3",
   "version": "3.6.4"
  }
 },
 "nbformat": 4,
 "nbformat_minor": 2
}
